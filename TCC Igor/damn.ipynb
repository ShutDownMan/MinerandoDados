{
 "cells": [
  {
   "cell_type": "markdown",
   "metadata": {},
   "source": [
    "# TCC TimeSeries Classification"
   ]
  },
  {
   "cell_type": "code",
   "execution_count": 9,
   "metadata": {},
   "outputs": [],
   "source": [
    "import pandas as pd\n",
    "import numpy as np\n"
   ]
  },
  {
   "cell_type": "markdown",
   "metadata": {},
   "source": [
    "## Loading the data"
   ]
  },
  {
   "cell_type": "code",
   "execution_count": 17,
   "metadata": {},
   "outputs": [
    {
     "data": {
      "text/html": [
       "<div>\n",
       "<style scoped>\n",
       "    .dataframe tbody tr th:only-of-type {\n",
       "        vertical-align: middle;\n",
       "    }\n",
       "\n",
       "    .dataframe tbody tr th {\n",
       "        vertical-align: top;\n",
       "    }\n",
       "\n",
       "    .dataframe thead th {\n",
       "        text-align: right;\n",
       "    }\n",
       "</style>\n",
       "<table border=\"1\" class=\"dataframe\">\n",
       "  <thead>\n",
       "    <tr style=\"text-align: right;\">\n",
       "      <th></th>\n",
       "      <th>COTA</th>\n",
       "      <th>MCA</th>\n",
       "      <th>PROF_NA</th>\n",
       "    </tr>\n",
       "    <tr>\n",
       "      <th>DATE</th>\n",
       "      <th></th>\n",
       "      <th></th>\n",
       "      <th></th>\n",
       "    </tr>\n",
       "  </thead>\n",
       "  <tbody>\n",
       "    <tr>\n",
       "      <th>2019-01-01</th>\n",
       "      <td>881.231000</td>\n",
       "      <td>NaN</td>\n",
       "      <td>NaN</td>\n",
       "    </tr>\n",
       "    <tr>\n",
       "      <th>2019-01-02</th>\n",
       "      <td>881.241000</td>\n",
       "      <td>14.140000</td>\n",
       "      <td>18.030000</td>\n",
       "    </tr>\n",
       "    <tr>\n",
       "      <th>2019-01-03</th>\n",
       "      <td>881.241000</td>\n",
       "      <td>14.140000</td>\n",
       "      <td>18.030000</td>\n",
       "    </tr>\n",
       "    <tr>\n",
       "      <th>2019-01-04</th>\n",
       "      <td>881.241000</td>\n",
       "      <td>14.140000</td>\n",
       "      <td>18.030000</td>\n",
       "    </tr>\n",
       "    <tr>\n",
       "      <th>2019-01-05</th>\n",
       "      <td>881.240000</td>\n",
       "      <td>14.139000</td>\n",
       "      <td>18.031000</td>\n",
       "    </tr>\n",
       "    <tr>\n",
       "      <th>...</th>\n",
       "      <td>...</td>\n",
       "      <td>...</td>\n",
       "      <td>...</td>\n",
       "    </tr>\n",
       "    <tr>\n",
       "      <th>2022-05-31</th>\n",
       "      <td>883.336585</td>\n",
       "      <td>16.235585</td>\n",
       "      <td>15.934415</td>\n",
       "    </tr>\n",
       "    <tr>\n",
       "      <th>2022-06-01</th>\n",
       "      <td>883.322128</td>\n",
       "      <td>16.221128</td>\n",
       "      <td>15.948872</td>\n",
       "    </tr>\n",
       "    <tr>\n",
       "      <th>2022-06-02</th>\n",
       "      <td>883.316206</td>\n",
       "      <td>16.215206</td>\n",
       "      <td>15.954794</td>\n",
       "    </tr>\n",
       "    <tr>\n",
       "      <th>2022-06-03</th>\n",
       "      <td>883.300592</td>\n",
       "      <td>16.199592</td>\n",
       "      <td>15.970408</td>\n",
       "    </tr>\n",
       "    <tr>\n",
       "      <th>2022-06-04</th>\n",
       "      <td>883.276481</td>\n",
       "      <td>16.175481</td>\n",
       "      <td>15.994519</td>\n",
       "    </tr>\n",
       "  </tbody>\n",
       "</table>\n",
       "<p>1181 rows × 3 columns</p>\n",
       "</div>"
      ],
      "text/plain": [
       "                  COTA        MCA    PROF_NA\n",
       "DATE                                        \n",
       "2019-01-01  881.231000        NaN        NaN\n",
       "2019-01-02  881.241000  14.140000  18.030000\n",
       "2019-01-03  881.241000  14.140000  18.030000\n",
       "2019-01-04  881.241000  14.140000  18.030000\n",
       "2019-01-05  881.240000  14.139000  18.031000\n",
       "...                ...        ...        ...\n",
       "2022-05-31  883.336585  16.235585  15.934415\n",
       "2022-06-01  883.322128  16.221128  15.948872\n",
       "2022-06-02  883.316206  16.215206  15.954794\n",
       "2022-06-03  883.300592  16.199592  15.970408\n",
       "2022-06-04  883.276481  16.175481  15.994519\n",
       "\n",
       "[1181 rows x 3 columns]"
      ]
     },
     "execution_count": 17,
     "metadata": {},
     "output_type": "execute_result"
    }
   ],
   "source": [
    "df = pd.read_excel(\"./datasets/24PI109.xlsx\", sheet_name= \"Medições\")\n",
    "\n",
    "# index dataframe\n",
    "df.set_index(\"DATE\", inplace=True)\n",
    "\n",
    "df"
   ]
  },
  {
   "cell_type": "markdown",
   "metadata": {},
   "source": [
    "## Data Preprocessing"
   ]
  },
  {
   "cell_type": "markdown",
   "metadata": {},
   "source": [
    "### Inserting missing rows"
   ]
  },
  {
   "cell_type": "code",
   "execution_count": 20,
   "metadata": {},
   "outputs": [
    {
     "data": {
      "text/html": [
       "<div>\n",
       "<style scoped>\n",
       "    .dataframe tbody tr th:only-of-type {\n",
       "        vertical-align: middle;\n",
       "    }\n",
       "\n",
       "    .dataframe tbody tr th {\n",
       "        vertical-align: top;\n",
       "    }\n",
       "\n",
       "    .dataframe thead th {\n",
       "        text-align: right;\n",
       "    }\n",
       "</style>\n",
       "<table border=\"1\" class=\"dataframe\">\n",
       "  <thead>\n",
       "    <tr style=\"text-align: right;\">\n",
       "      <th></th>\n",
       "      <th>COTA</th>\n",
       "      <th>MCA</th>\n",
       "      <th>PROF_NA</th>\n",
       "    </tr>\n",
       "    <tr>\n",
       "      <th>DATE</th>\n",
       "      <th></th>\n",
       "      <th></th>\n",
       "      <th></th>\n",
       "    </tr>\n",
       "  </thead>\n",
       "  <tbody>\n",
       "    <tr>\n",
       "      <th>2019-01-01</th>\n",
       "      <td>881.231000</td>\n",
       "      <td>NaN</td>\n",
       "      <td>NaN</td>\n",
       "    </tr>\n",
       "    <tr>\n",
       "      <th>2019-01-02</th>\n",
       "      <td>881.241000</td>\n",
       "      <td>14.140000</td>\n",
       "      <td>18.030000</td>\n",
       "    </tr>\n",
       "    <tr>\n",
       "      <th>2019-01-03</th>\n",
       "      <td>881.241000</td>\n",
       "      <td>14.140000</td>\n",
       "      <td>18.030000</td>\n",
       "    </tr>\n",
       "    <tr>\n",
       "      <th>2019-01-04</th>\n",
       "      <td>881.241000</td>\n",
       "      <td>14.140000</td>\n",
       "      <td>18.030000</td>\n",
       "    </tr>\n",
       "    <tr>\n",
       "      <th>2019-01-05</th>\n",
       "      <td>881.240000</td>\n",
       "      <td>14.139000</td>\n",
       "      <td>18.031000</td>\n",
       "    </tr>\n",
       "    <tr>\n",
       "      <th>...</th>\n",
       "      <td>...</td>\n",
       "      <td>...</td>\n",
       "      <td>...</td>\n",
       "    </tr>\n",
       "    <tr>\n",
       "      <th>2022-05-31</th>\n",
       "      <td>883.336585</td>\n",
       "      <td>16.235585</td>\n",
       "      <td>15.934415</td>\n",
       "    </tr>\n",
       "    <tr>\n",
       "      <th>2022-06-01</th>\n",
       "      <td>883.322128</td>\n",
       "      <td>16.221128</td>\n",
       "      <td>15.948872</td>\n",
       "    </tr>\n",
       "    <tr>\n",
       "      <th>2022-06-02</th>\n",
       "      <td>883.316206</td>\n",
       "      <td>16.215206</td>\n",
       "      <td>15.954794</td>\n",
       "    </tr>\n",
       "    <tr>\n",
       "      <th>2022-06-03</th>\n",
       "      <td>883.300592</td>\n",
       "      <td>16.199592</td>\n",
       "      <td>15.970408</td>\n",
       "    </tr>\n",
       "    <tr>\n",
       "      <th>2022-06-04</th>\n",
       "      <td>883.276481</td>\n",
       "      <td>16.175481</td>\n",
       "      <td>15.994519</td>\n",
       "    </tr>\n",
       "  </tbody>\n",
       "</table>\n",
       "<p>1251 rows × 3 columns</p>\n",
       "</div>"
      ],
      "text/plain": [
       "                  COTA        MCA    PROF_NA\n",
       "DATE                                        \n",
       "2019-01-01  881.231000        NaN        NaN\n",
       "2019-01-02  881.241000  14.140000  18.030000\n",
       "2019-01-03  881.241000  14.140000  18.030000\n",
       "2019-01-04  881.241000  14.140000  18.030000\n",
       "2019-01-05  881.240000  14.139000  18.031000\n",
       "...                ...        ...        ...\n",
       "2022-05-31  883.336585  16.235585  15.934415\n",
       "2022-06-01  883.322128  16.221128  15.948872\n",
       "2022-06-02  883.316206  16.215206  15.954794\n",
       "2022-06-03  883.300592  16.199592  15.970408\n",
       "2022-06-04  883.276481  16.175481  15.994519\n",
       "\n",
       "[1251 rows x 3 columns]"
      ]
     },
     "execution_count": 20,
     "metadata": {},
     "output_type": "execute_result"
    }
   ],
   "source": [
    "# inserting missing day rows in dataframe\n",
    "df = df.asfreq('D', fill_value=np.nan)\n",
    "\n",
    "df"
   ]
  },
  {
   "cell_type": "markdown",
   "metadata": {},
   "source": [
    "### Interpolating the missing values"
   ]
  },
  {
   "cell_type": "code",
   "execution_count": 22,
   "metadata": {},
   "outputs": [
    {
     "data": {
      "text/plain": [
       "COTA       1251\n",
       "MCA        1250\n",
       "PROF_NA    1250\n",
       "dtype: int64"
      ]
     },
     "execution_count": 22,
     "metadata": {},
     "output_type": "execute_result"
    }
   ],
   "source": [
    "df = df.interpolate()\n",
    "\n",
    "df.notna().sum()\n"
   ]
  },
  {
   "cell_type": "markdown",
   "metadata": {},
   "source": [
    "## X and no y"
   ]
  },
  {
   "cell_type": "code",
   "execution_count": null,
   "metadata": {},
   "outputs": [],
   "source": [
    "X = df[[\"DATE\", \"MCA\"]]\n"
   ]
  },
  {
   "cell_type": "markdown",
   "metadata": {},
   "source": [
    "## Transformer model"
   ]
  },
  {
   "cell_type": "code",
   "execution_count": 23,
   "metadata": {},
   "outputs": [
    {
     "name": "stdout",
     "output_type": "stream",
     "text": [
      "Collecting tensorflow\n"
     ]
    }
   ],
   "source": [
    "from tensorflow import keras\n",
    "from tensorflow.keras import layers\n",
    "\n"
   ]
  }
 ],
 "metadata": {
  "kernelspec": {
   "display_name": "Python 3.10.5 ('mineracao-venv': venv)",
   "language": "python",
   "name": "python3"
  },
  "language_info": {
   "codemirror_mode": {
    "name": "ipython",
    "version": 3
   },
   "file_extension": ".py",
   "mimetype": "text/x-python",
   "name": "python",
   "nbconvert_exporter": "python",
   "pygments_lexer": "ipython3",
   "version": "3.10.5"
  },
  "orig_nbformat": 4,
  "vscode": {
   "interpreter": {
    "hash": "717656e8048df523d4225c89593711099144616bdcca6afd3cc05aa21074fef3"
   }
  }
 },
 "nbformat": 4,
 "nbformat_minor": 2
}
