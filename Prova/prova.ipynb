{
 "cells": [
  {
   "cell_type": "markdown",
   "metadata": {},
   "source": [
    "# Prova Mineração de Dados"
   ]
  },
  {
   "cell_type": "markdown",
   "metadata": {},
   "source": [
    "### load libraries"
   ]
  },
  {
   "cell_type": "code",
   "execution_count": null,
   "metadata": {},
   "outputs": [],
   "source": [
    "import pandas as pd\n",
    "import transformers\n"
   ]
  },
  {
   "cell_type": "markdown",
   "metadata": {},
   "source": [
    "### load data"
   ]
  },
  {
   "cell_type": "code",
   "execution_count": null,
   "metadata": {},
   "outputs": [],
   "source": [
    "df = pd.read_csv('data/train.csv')\n",
    "\n",
    "display(df.head())\n"
   ]
  },
  {
   "cell_type": "code",
   "execution_count": null,
   "metadata": {},
   "outputs": [],
   "source": [
    "\n",
    "# pd dummies discourse_type column\n",
    "df = pd.get_dummies(df, columns=['discourse_type'])\n",
    "\n",
    "display(df.head())\n"
   ]
  },
  {
   "cell_type": "code",
   "execution_count": null,
   "metadata": {},
   "outputs": [],
   "source": [
    "\n",
    "# X and y\n",
    "X = df.drop(['discourse_id', 'essay_id', 'discourse_effectiveness'], axis=1)\n",
    "y = df['discourse_effectiveness']\n",
    "\n",
    "display(X.head())\n",
    "display(y.head())\n"
   ]
  },
  {
   "cell_type": "code",
   "execution_count": null,
   "metadata": {},
   "outputs": [],
   "source": [
    "# use transformer to create embedding\n",
    "tokenizer = transformers.BertTokenizer.from_pretrained('bert-base-uncased')\n",
    "X_embedded = tokenizer.batch_encode_plus(X['discourse_text'], max_length=512, padding=True, return_tensors='pt')\n",
    "\n",
    "display(X_embedded['input_ids'][:5])\n"
   ]
  },
  {
   "cell_type": "code",
   "execution_count": null,
   "metadata": {},
   "outputs": [],
   "source": [
    "# add embeddings to X\n",
    "X['embeddings'] = X_embedded['input_ids'].squeeze().tolist()\n",
    "\n",
    "display(X.head())\n"
   ]
  },
  {
   "cell_type": "code",
   "execution_count": null,
   "metadata": {},
   "outputs": [],
   "source": [
    "from yellowbrick.text import TSNEVisualizer\n",
    "\n",
    "tuple_vectors = X['embeddings'].values.tolist()\n",
    "\n",
    "# Create the visualizer and draw the vectors\n",
    "tsne = TSNEVisualizer()\n",
    "tsne.fit(tuple_vectors)\n",
    "tsne.poof()\n"
   ]
  },
  {
   "cell_type": "code",
   "execution_count": null,
   "metadata": {},
   "outputs": [],
   "source": [
    "# train model\n",
    "from sklearn.linear_model import LogisticRegression\n",
    "\n",
    "X_embeddings = X['embeddings'].values.tolist()\n",
    "\n",
    "model = LogisticRegression()\n",
    "model.fit(X_embeddings, y)\n"
   ]
  },
  {
   "cell_type": "code",
   "execution_count": null,
   "metadata": {},
   "outputs": [],
   "source": [
    "# score on train\n",
    "score = model.score(X_embeddings, y)\n",
    "print(f'Score on train: {score}')\n"
   ]
  },
  {
   "cell_type": "code",
   "execution_count": null,
   "metadata": {},
   "outputs": [],
   "source": [
    "# score on test\n",
    "df_test = pd.read_csv('data/test.csv')\n",
    "df_test = pd.get_dummies(df_test, columns=['discourse_type'])\n",
    "\n",
    "X_test = df_test.drop(['discourse_id', 'essay_id'], axis=1)\n",
    "X_test['embeddings'] = X_embedded['input_ids'].squeeze().tolist()\n",
    "\n",
    "X_test_embeddings = X_test['embeddings'].values.tolist()\n",
    "\n",
    "score = model.score(X_test_embeddings, y)\n",
    "\n",
    "print(f'Score on test: {score}')\n"
   ]
  }
 ],
 "metadata": {
  "kernelspec": {
   "display_name": "Python 3.10.5 ('timeseries')",
   "language": "python",
   "name": "python3"
  },
  "language_info": {
   "codemirror_mode": {
    "name": "ipython",
    "version": 3
   },
   "file_extension": ".py",
   "mimetype": "text/x-python",
   "name": "python",
   "nbconvert_exporter": "python",
   "pygments_lexer": "ipython3",
   "version": "3.10.5"
  },
  "orig_nbformat": 4,
  "vscode": {
   "interpreter": {
    "hash": "f761504f07169db6a0ac55aae7c7d9a68de072d15d78d599514f40273cfe7271"
   }
  }
 },
 "nbformat": 4,
 "nbformat_minor": 2
}
